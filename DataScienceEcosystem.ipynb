{
 "cells": [
  {
   "cell_type": "markdown",
   "id": "10cf481f-b342-4ddd-b762-bb1b853f4f4d",
   "metadata": {},
   "source": [
    "# Data Science Tools and Ecosystem"
   ]
  },
  {
   "cell_type": "markdown",
   "id": "c613d195-44f6-472f-8cc9-cb64013ceebd",
   "metadata": {},
   "source": [
    "In this notebook, Data Science Tools and Ecosystem are summarized."
   ]
  },
  {
   "cell_type": "markdown",
   "id": "4a672c6f-cb9f-435b-85e4-339d6c64c02a",
   "metadata": {},
   "source": [
    "**Objectives**\n",
    "\n",
    "- List popular languages for Data Science.\n",
    "\n",
    "- Describe development tools used in Data Science.\n",
    "\n",
    "- Present examples of arithmetic expressions in Python.\n",
    "\n",
    "- Identify interactive development environments.\n",
    "\n",
    "- Understand basic concepts about Notebooks and Markdown."
   ]
  },
  {
   "cell_type": "markdown",
   "id": "47e444d1-49aa-4e8f-bc04-3429d930b20f",
   "metadata": {},
   "source": [
    "Some of the popular languages that Data Scientists use are:\n",
    "\n",
    "1. Python  \n",
    "2. R  \n",
    "3. SQL  \n",
    "4. Julia  \n",
    "5. Scala  "
   ]
  },
  {
   "cell_type": "markdown",
   "id": "d6a64ec4-fd75-46db-92f8-a001b11dcf79",
   "metadata": {},
   "source": [
    "Some of the commonly used libraries used by Data Scientists include:\n",
    "\n",
    "1. NumPy  \n",
    "2. Pandas  \n",
    "3. Matplotlib  \n",
    "4. Scikit-learn  \n",
    "5. TensorFlow  "
   ]
  },
  {
   "cell_type": "markdown",
   "id": "2ae47fb0-1e2c-4dca-b88d-82c075025a92",
   "metadata": {},
   "source": [
    "| Data Science Tools         |\n",
    "|------------------------------------------|\n",
    "| RStudio                                  |\n",
    "| JupyterLab                               |\n",
    "| VSCode                                   |\n"
   ]
  },
  {
   "cell_type": "markdown",
   "id": "2b73a563-5af6-42cd-bd91-734007fe6264",
   "metadata": {},
   "source": [
    "### Below are a few examples of evaluating arithmetic expressions in Python.\n",
    "- **Addition:** `3 + 5 = 8`  \n",
    "- **Subtraction:** `10 - 4 = 6`  \n",
    "- **Multiplication:** `7 * 2 = 14`  \n",
    "- **Division:** `12 / 4 = 3.0`  \n",
    "- **Exponentiation:** `2 ** 3 = 8`  \n",
    "- **Modulo (remainder):** `10 % 3 = 1`  \n"
   ]
  },
  {
   "cell_type": "code",
   "execution_count": 4,
   "id": "7dce51cc-e084-4a3b-a419-ac9f8d84350a",
   "metadata": {},
   "outputs": [
    {
     "name": "stdout",
     "output_type": "stream",
     "text": [
      "8\n",
      "6\n",
      "14\n",
      "3.0\n",
      "8\n",
      "1\n"
     ]
    }
   ],
   "source": [
    "print(3+5)\n",
    "print(10-4)\n",
    "print(7*2)\n",
    "print(12/4)\n",
    "print(2 ** 3)\n",
    "print(10 % 3)"
   ]
  },
  {
   "cell_type": "code",
   "execution_count": 1,
   "id": "88781259-e965-4553-bf69-fc2791a6e365",
   "metadata": {},
   "outputs": [
    {
     "data": {
      "text/plain": [
       "17"
      ]
     },
     "execution_count": 1,
     "metadata": {},
     "output_type": "execute_result"
    }
   ],
   "source": [
    "# This a simple arithmetic expression to mutiply then add integers\n",
    "(3*4)+5"
   ]
  },
  {
   "cell_type": "code",
   "execution_count": 2,
   "id": "5973588d-6448-4194-a2e6-1e0891e876bf",
   "metadata": {},
   "outputs": [
    {
     "data": {
      "text/plain": [
       "3.3333333333333335"
      ]
     },
     "execution_count": 2,
     "metadata": {},
     "output_type": "execute_result"
    }
   ],
   "source": [
    "# This will convert 200 minutes to hours by diving by 60\n",
    "200 / 60"
   ]
  },
  {
   "cell_type": "markdown",
   "id": "a0ca403e-3de1-41bc-9e98-e30a2fb03381",
   "metadata": {},
   "source": [
    "## Author\n",
    "Jean Carlo Bermúdez Mora"
   ]
  }
 ],
 "metadata": {
  "kernelspec": {
   "display_name": "Python 3 (ipykernel)",
   "language": "python",
   "name": "python3"
  },
  "language_info": {
   "codemirror_mode": {
    "name": "ipython",
    "version": 3
   },
   "file_extension": ".py",
   "mimetype": "text/x-python",
   "name": "python",
   "nbconvert_exporter": "python",
   "pygments_lexer": "ipython3",
   "version": "3.12.8"
  }
 },
 "nbformat": 4,
 "nbformat_minor": 5
}
