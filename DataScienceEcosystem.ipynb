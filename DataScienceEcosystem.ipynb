{
 "cells": [
  {
   "cell_type": "markdown",
   "id": "10cf481f-b342-4ddd-b762-bb1b853f4f4d",
   "metadata": {},
   "source": [
    "# Data Science Tools and Ecosystem"
   ]
  },
  {
   "cell_type": "markdown",
   "id": "c613d195-44f6-472f-8cc9-cb64013ceebd",
   "metadata": {},
   "source": [
    "En este cuaderno, se resumen las herramientas y ecosistemas de ciencia de datos."
   ]
  },
  {
   "cell_type": "markdown",
   "id": "4a672c6f-cb9f-435b-85e4-339d6c64c02a",
   "metadata": {},
   "source": [
    "**Objetivos:**\n",
    "\n",
    "- Listar lenguajes populares para Ciencia de Datos.\n",
    "- Describir herramientas de desarrollo utilizadas en Ciencia de Datos.\n",
    "- Presentar ejemplos de expresiones aritméticas en Python.\n",
    "- Identificar entornos de desarrollo interactivos.\n",
    "- Comprender conceptos básicos sobre Notebooks y Markdown."
   ]
  },
  {
   "cell_type": "markdown",
   "id": "47e444d1-49aa-4e8f-bc04-3429d930b20f",
   "metadata": {},
   "source": [
    "Algunos de los lenguajes populares que utilizan los científicos de datos son:\n",
    "1. Python\n",
    "2. R\n",
    "3. Julia"
   ]
  },
  {
   "cell_type": "markdown",
   "id": "d6a64ec4-fd75-46db-92f8-a001b11dcf79",
   "metadata": {},
   "source": [
    "Algunas de las bibliotecas comúnmente utilizadas por los científicos de datos incluyen:\n",
    "1. Pandas\n",
    "2. Numpy\n",
    "3. Scikit-learn\n",
    "4. Keras\n",
    "5. Tensorflow"
   ]
  },
  {
   "cell_type": "markdown",
   "id": "2ae47fb0-1e2c-4dca-b88d-82c075025a92",
   "metadata": {},
   "source": [
    "| Herramientas de Ciencia de Datos         |\n",
    "|------------------------------------------|\n",
    "| RStudio                                  |\n",
    "| JupyterLab                               |\n",
    "| VSCode                                   |\n"
   ]
  },
  {
   "cell_type": "markdown",
   "id": "2b73a563-5af6-42cd-bd91-734007fe6264",
   "metadata": {},
   "source": [
    "### A continuación, se presentan algunos ejemplos de evaluación de expresiones aritméticas en Python.\n",
    "\n",
    "- **Suma:** `3 + 5 = 8`\n",
    "- **Resta:** `10 - 4 = 6`\n",
    "- **Multiplicación:** `7 * 2 = 14`\n",
    "- **División:** `12 / 4 = 3.0`\n",
    "- **Potenciación:** `2 ** 3 = 8`\n",
    "- **Módulo (residuo):** `10 % 3 = 1`\n"
   ]
  },
  {
   "cell_type": "code",
   "execution_count": 1,
   "id": "88781259-e965-4553-bf69-fc2791a6e365",
   "metadata": {},
   "outputs": [
    {
     "data": {
      "text/plain": [
       "17"
      ]
     },
     "execution_count": 1,
     "metadata": {},
     "output_type": "execute_result"
    }
   ],
   "source": [
    "# Esta es una expresión aritmética simple para multiplicar y luego sumar enteros\n",
    "(3*4)+5"
   ]
  },
  {
   "cell_type": "code",
   "execution_count": 2,
   "id": "5973588d-6448-4194-a2e6-1e0891e876bf",
   "metadata": {},
   "outputs": [
    {
     "data": {
      "text/plain": [
       "3.3333333333333335"
      ]
     },
     "execution_count": 2,
     "metadata": {},
     "output_type": "execute_result"
    }
   ],
   "source": [
    "# Esto convertirá 200 minutos a horas dividiendo por 60\n",
    "200 / 60"
   ]
  },
  {
   "cell_type": "markdown",
   "id": "a0ca403e-3de1-41bc-9e98-e30a2fb03381",
   "metadata": {},
   "source": [
    "## Autor\n",
    "Jean Carlo Bermúdez Mora"
   ]
  }
 ],
 "metadata": {
  "kernelspec": {
   "display_name": "Python 3 (ipykernel)",
   "language": "python",
   "name": "python3"
  },
  "language_info": {
   "codemirror_mode": {
    "name": "ipython",
    "version": 3
   },
   "file_extension": ".py",
   "mimetype": "text/x-python",
   "name": "python",
   "nbconvert_exporter": "python",
   "pygments_lexer": "ipython3",
   "version": "3.12.8"
  }
 },
 "nbformat": 4,
 "nbformat_minor": 5
}
